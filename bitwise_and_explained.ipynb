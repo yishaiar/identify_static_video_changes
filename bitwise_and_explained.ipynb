{
 "cells": [
  {
   "cell_type": "code",
   "execution_count": 19,
   "metadata": {},
   "outputs": [],
   "source": [
    "from app.dotenv import base_dir, data_dir\n",
    "video_fname = 'vtest.avi'\n",
    "video_add = f\"{data_dir}/{video_fname}\"\n",
    "\n",
    "import os\n",
    "import cv2\n",
    "import numpy as np\n",
    "\n",
    "# Assuming you have the folder paths for background learning and testing\n",
    "folder1_add = f'{data_dir}\\{video_fname.split(\".\")[0]}'  # Folder with images for background modeling\n",
    "folder2_add = f'{data_dir}\\{video_fname.split(\".\")[0]}'  # Folder with images for foreground subtraction\n",
    "\n",
    "# List all image files in both folders\n",
    "image_files1 = sorted([f for f in os.listdir(folder1_add) if f.endswith(('.jpg', '.png'))])\n",
    "image_files2 = sorted([f for f in os.listdir(folder2_add) if f.endswith(('.jpg', '.png'))])\n",
    "\n",
    "# Initialize the background subtractor\n",
    "fgbg = cv2.bgsegm.createBackgroundSubtractorMOG()\n",
    "\n",
    "# 1. Calculate the background model from images in folder1_add\n",
    "# for image_file in image_files1:\n",
    "#     image_path = os.path.join(folder1_add, image_file)\n",
    "    \n",
    "    # Read the image from folder1_add\n",
    "img1 = cv2.imread(os.path.join(folder1_add, image_files1[1]))\n",
    "img2 = cv2.imread(os.path.join(folder1_add, image_files1[2]))\n",
    "\n",
    "# cv2.imshow('Frame and Foreground Mask', img2)\n",
    "# cv2.waitKey(0)\n",
    "\n"
   ]
  },
  {
   "cell_type": "code",
   "execution_count": 17,
   "metadata": {},
   "outputs": [],
   "source": [
    "import cv2\n",
    "\n",
    "# Load two images\n",
    "img1 = cv2.imread('messi5.jpg')\n",
    "img2 = cv2.imread('opencv-logo-white.png')\n",
    "assert img1 is not None, \"file could not be read, check with os.path.exists()\"\n",
    "assert img2 is not None, \"file could not be read, check with os.path.exists()\"\n",
    "# cv2.imshow('Frame and Foreground Mask', img1)\n",
    "# cv2.waitKey(0)\n",
    "# cv2.imshow('Frame and Foreground Mask', img2)\n",
    "# cv2.waitKey(0)\n",
    "\n",
    "# np.max(img2)\n"
   ]
  },
  {
   "cell_type": "code",
   "execution_count": 23,
   "metadata": {},
   "outputs": [
    {
     "data": {
      "text/plain": [
       "-1"
      ]
     },
     "execution_count": 23,
     "metadata": {},
     "output_type": "execute_result"
    }
   ],
   "source": [
    "# I want to put logo on top-left corner, So I create a ROI\n",
    "rows,cols,channels = img2.shape\n",
    "roi = img1[0:rows, 0:cols]\n",
    "\n",
    "# Now create a mask of logo and create its inverse mask also\n",
    "img2gray = cv2.cvtColor(img2,cv2.COLOR_BGR2GRAY)\n",
    "ret, mask = cv2.threshold(img2gray, 10, 255, cv2.THRESH_BINARY)\n",
    "mask_inv = cv2.bitwise_not(mask)\n",
    "\n",
    "# cv2.imshow('res',mask_inv)\n",
    "# cv2.waitKey(0)\n",
    "\n",
    "# # Now black-out the area of logo in ROI\n",
    "img1_bg = cv2.bitwise_and(roi,roi,mask = mask_inv)\n",
    "\n",
    "cv2.imshow('res',img1_bg)\n",
    "cv2.waitKey(0)\n",
    "\n",
    "# # Take only region of logo from logo image.\n",
    "# img2_fg = cv2.bitwise_and(img2,img2,mask = mask)\n",
    "\n",
    "# # Put logo in ROI and modify the main image\n",
    "# dst = cv2.add(img1_bg,img2_fg)\n",
    "# img1[0:rows, 0:cols ] = dst\n",
    "\n",
    "# cv2.imshow('res',img1)\n",
    "# cv2.waitKey(0)\n",
    "# cv2.destroyAllWindows()"
   ]
  }
 ],
 "metadata": {
  "kernelspec": {
   "display_name": ".venv",
   "language": "python",
   "name": "python3"
  },
  "language_info": {
   "codemirror_mode": {
    "name": "ipython",
    "version": 3
   },
   "file_extension": ".py",
   "mimetype": "text/x-python",
   "name": "python",
   "nbconvert_exporter": "python",
   "pygments_lexer": "ipython3",
   "version": "3.11.6"
  }
 },
 "nbformat": 4,
 "nbformat_minor": 2
}
