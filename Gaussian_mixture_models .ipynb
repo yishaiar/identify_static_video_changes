{
 "cells": [
  {
   "cell_type": "code",
   "execution_count": 1,
   "metadata": {},
   "outputs": [
    {
     "name": "stdout",
     "output_type": "stream",
     "text": [
      "isMaster: False\n",
      "possible background substraction model: dict_keys(['MOG2', 'KNN', 'CNT', 'LSBP', 'GSOC', 'PBAS'])\n"
     ]
    }
   ],
   "source": [
    "\n",
    "try:\n",
    "    isMaster\n",
    "except NameError:\n",
    "    print('isMaster:', False)\n",
    "    \n",
    "    from app.dotenv import base_dir, data_dir\n",
    "    from app.change_detect.foreground_background_subtractors import apply_bg_subtraction, display_resized_frame,save_background_model,methods\n",
    "    import os\n",
    "\n",
    "    video_fname = 'vtest.avi'\n",
    "    save_path = f'{data_dir}\\{video_fname.split(\".\")[0]}'\n",
    "    \n",
    "    # List all image files in both folders (can be the same folder)\n",
    "    folder1_add,folder2_add = save_path,save_path\n",
    "    background_models_add = f'{folder1_add}/background_models'  # Folder to save background models\n",
    "    \n",
    "    \n",
    "\n",
    "\n",
    "image_files1 = sorted([f\"{folder1_add}/{f}\" for f in os.listdir(folder1_add) if f.endswith(('.jpg', '.png'))]) # images for background modeling (training)\n",
    "image_files2 = sorted([f\"{folder2_add}/{f}\" for f in os.listdir(folder2_add) if f.endswith(('.jpg', '.png'))]) # images for foreground subtraction (testing)\n",
    "\n",
    "\n",
    "os.makedirs(background_models_add, exist_ok=True)\n",
    "\n",
    "print(f'possible background substraction model: {methods.keys()}')\n",
    "\n",
    "selected_method_name = 'MOG2'\n"
   ]
  },
  {
   "cell_type": "code",
   "execution_count": 8,
   "metadata": {},
   "outputs": [
    {
     "name": "stdout",
     "output_type": "stream",
     "text": [
      "MOG2 background substraction complete.\n"
     ]
    }
   ],
   "source": [
    "\n",
    "if not  os.path.exists( os.path.join(background_models_add, f'background_model_{selected_method_name}.png')) :\n",
    "    print(f\"Processing with {selected_method_name}\")\n",
    "\n",
    "    # 1. Calculate the background model from images in image_files1\n",
    "    fgbg = apply_bg_subtraction(methods[selected_method_name], image_files1)\n",
    "    print(f\"{selected_method_name} background model calculation complete.\")\n",
    "\n",
    "    # 2. Save the background model as an image - skip if method saving fails \n",
    "    if save_background_model(selected_method_name, fgbg, save_dir = background_models_add):\n",
    "        print(f\"{selected_method_name} background model saved.\")\n",
    "\n",
    "\n",
    "    # # 3. Apply the background model to images in image_files2 and display the foreground subtraction\n",
    "    # _ = apply_bg_subtraction(fgbg, image_files2, substract=True)\n",
    "    # # Clean up\n",
    "    # cv.destroyAllWindows()\n",
    "\n",
    "\n",
    "print(f\"{selected_method_name} background substraction complete.\")\n",
    "\n"
   ]
  },
  {
   "cell_type": "markdown",
   "metadata": {},
   "source": [
    "check diffrent models"
   ]
  },
  {
   "cell_type": "code",
   "execution_count": 3,
   "metadata": {},
   "outputs": [],
   "source": [
    "# fitted_fgbg ={}\n",
    "# for method_name, fgbg in methods.items():\n",
    "#     print(f\"Processing with {method_name}\")\n",
    "\n",
    "#     # 1. Calculate the background model from images in image_files1\n",
    "#     ffgbg = apply_bg_subtraction(fgbg, image_files1,LEN=10)\n",
    "#     print(f\"{method_name} background model calculation complete.\")\n",
    "    \n",
    "#     # 2. Save the background model as an image - skip if method saving fails \n",
    "#     if save_background_model(method_name, fgbg, save_dir = background_models_add):\n",
    "#         print(f\"{method_name} background model saved.\")\n",
    "#         fitted_fgbg[method_name] = fgbg\n",
    "\n",
    "#     # 3. Apply the background model to images in image_files2 and display the foreground subtraction\n",
    "#     _ = apply_bg_subtraction(fgbg, image_files2, substract=True,LEN=10)\n",
    "#     # Clean up\n",
    "#     cv.destroyAllWindows()\n",
    "#     print(f\"{method_name} background substraction complete.\")\n",
    "    \n",
    "#     print('-'*50)\n",
    "\n",
    "\n",
    "\n",
    "\n",
    "\n",
    "# print(f'models saved into images: {fitted_fgbg.keys()}')"
   ]
  },
  {
   "cell_type": "code",
   "execution_count": null,
   "metadata": {},
   "outputs": [],
   "source": []
  }
 ],
 "metadata": {
  "kernelspec": {
   "display_name": ".venv",
   "language": "python",
   "name": "python3"
  },
  "language_info": {
   "codemirror_mode": {
    "name": "ipython",
    "version": 3
   },
   "file_extension": ".py",
   "mimetype": "text/x-python",
   "name": "python",
   "nbconvert_exporter": "python",
   "pygments_lexer": "ipython3",
   "version": "3.11.6"
  }
 },
 "nbformat": 4,
 "nbformat_minor": 2
}
